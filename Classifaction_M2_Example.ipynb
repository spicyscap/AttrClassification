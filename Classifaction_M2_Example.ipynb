{
 "cells": [
  {
   "cell_type": "markdown",
   "metadata": {},
   "source": [
    "# 概念分群[二]_使用範例\n",
    "LastModified : 20160117_2135"
   ]
  },
  {
   "cell_type": "markdown",
   "metadata": {
    "collapsed": true
   },
   "source": [
    "＠選定要使用的W2V Model (只能擇一，頗占記憶體)"
   ]
  },
  {
   "cell_type": "code",
   "execution_count": 1,
   "metadata": {
    "collapsed": true
   },
   "outputs": [],
   "source": [
    "import gensim\n",
    "#1__WIKI\n",
    "model = gensim.models.Word2Vec.load(\"W2V_Wiki_Trastd/wiki.zh.sim.seg.trastd.model\")\n",
    "\n",
    "#2__搜狐新闻数据\n",
    "#model = gensim.models.Word2Vec.load('W2V_SogouCS/SogouCS_Combine.model')\n",
    "\n",
    "#3__全网新闻数据\n",
    "#model = gensim.models.Word2Vec.load('W2V_SogouCA/SogouCA_Combine.model')"
   ]
  },
  {
   "cell_type": "code",
   "execution_count": 2,
   "metadata": {
    "collapsed": false
   },
   "outputs": [],
   "source": [
    "def W2V_ClassificationMethod2(Concept,Corpus,SimLevel,SimPercent):\n",
    "    #SimLevel = 0.25#　　相似程度\n",
    "    #SimPercent = 0.2#　　相似比率\n",
    "\n",
    "    import operator\n",
    "    cnt = []#　　計算餵進來的總詞量\n",
    "    Expt = []#　　存W2V無法辨識的詞語\n",
    "    Remain = []#　　存沒有通過門檻的詞語\n",
    "    ClassingResult = {}\n",
    "\n",
    "    for z in Concept:#　　把概念標頭寫進字典\n",
    "        ClassingResult[z] = {}#　　每個字典的內容都是一個字典\n",
    "\n",
    "    for q in open(Corpus,'r'):#　　把萃取關鍵字的結果讀出來        \n",
    "        q = q.strip().decode('utf-8')#　　去空白,解碼\n",
    "        cnt.append(q)#　　把讀取內容寫進一陣列(計算樣本的資料量用)\n",
    "        try:\n",
    "            TmpDic = {}#　　暫時性的字典(比對詞語與各概念的相似度)\n",
    "            SameConcept = ''#　　用來存放概念,當q直接是某概念時使用\n",
    "            TmpWord = 'None'#　　用來比對詞語是不是與概念完全吻合,若是,None會被修改掉;反之則維持None(初值)\n",
    "\n",
    "            print '@ ->「',q,'」的概念分類開始: '\n",
    "\n",
    "            for a in Concept:#　　讀取各概念標頭\n",
    "                TmpList = []#　　暫時性的陣列(存放'詞語'vs'概念內各詞語'的相似度)     \n",
    "                for b in Concept[a]:#　　讀取個概念內的詞語\n",
    "\n",
    "                    #####完全ㄧ樣#####\n",
    "                    if q.encode('utf-8') == b:#　　如果等於\n",
    "                        print '---目標詞「',q,'」就在【',a,'】的概念裡'\n",
    "                        TmpWord = b#　　把詞語指定給TmpWord\n",
    "                        break#　　跳出迴圈(已經知道跟某詞語完全一樣,就不用再比其他的詞語了)\n",
    "                    #####\n",
    "\n",
    "                    if model.similarity(q,b.decode('utf-8')) > SimLevel:#　　如果相似度達門檻\n",
    "                        TmpList.append(model.similarity(q,b.decode('utf-8')))#　　就把相似度寫進TmpList裡面\n",
    "\n",
    "                #####完全一樣#####        \n",
    "                if TmpWord != 'None':#　　不是None(初值)->被修改過->要完全相等才會出現此情況\n",
    "                    SameConcept = a#　　把現在比對到的概念( EX:輕鬆 )記起來\n",
    "                    break#　　跳出迴圈(已經知道是屬於哪個概念,就不用再比對其他概念了)\n",
    "                #####\n",
    "\n",
    "                #####印出q與一概念比較的詳細數據\n",
    "                print '  -目標詞「',q,'」與【',a,'】的相似陣列( 顯示內容為已高於相似度門檻 :',SimLevel,')'\n",
    "                print TmpList\n",
    "                print '  -其占【',a,'】概念內容的\\n   比重為 :',len(TmpList),'/',len(Dic[a])\n",
    "                print '   比率為 :',\n",
    "                print float(len(TmpList))/float(len(Concept[a]))\n",
    "                print '*'\n",
    "                #####\n",
    "\n",
    "                if float(len(TmpList))/float(len(Concept[a])) > SimPercent:#　　如果達到相似成數的門檻\n",
    "                    print '  -「',q,'」已過相似_百分比_門檻 :',SimPercent\n",
    "                    TmpAvg = 0.0#　　存放平均相似度\n",
    "                    for c in TmpList:#　　把每個相似度讀出來\n",
    "                        TmpAvg += c#　　加起來\n",
    "                    TmpDic[a] = float(TmpAvg)/float(len(TmpList))#　　把'總數'除以'陣列長度',得到平均相似度,\n",
    "                                                                    #再寫進字典裡,當q與多個概念都有相似度食\n",
    "                                                                    #可以比較與哪個概念的相似度比較高\n",
    "                    print '   與【',a,'】的相似度為: ',TmpDic[a],' -> 進入候選名單'\n",
    "                    print '# # # # # # #\\n'\n",
    "\n",
    "            #####完全一樣##### \n",
    "            if TmpWord != 'None': \n",
    "                ClassingResult[SameConcept][(q.encode('utf-8'))] = 1#　　把q寫進總字典的概念裡(Key:q Value:1)\n",
    "                continue\n",
    "            #####\n",
    "\n",
    "            #####檢視暫存字典#####\n",
    "            print '\\n___檢視',q,'的暫存字典(TmpDic)___'\n",
    "            for k in TmpDic:#　　遍歷暫存字典,看q與個概念的相似度\n",
    "                print k,TmpDic[k]\n",
    "            print '== == == == == == == == == == =='\n",
    "            #####\n",
    "\n",
    "            if len(TmpDic) > 0:#　　如果暫存字典有任何一概念(表示q'至少'與一個概念相似)\n",
    "                print '> >小結 :',q,'成功歸類！',\n",
    "                for d in TmpDic:#　　遍歷TmpDic\n",
    "                    if d == sorted(TmpDic.iteritems(),key=operator.itemgetter(1),reverse=True)[0][0]:\n",
    "                        #如果d = 排序後的第一名 (表示d就是與q最像的概念)\n",
    "                        if TmpDic[d] > SimLevel:#　　如果\"q與概念的相似度\"大於相似度門檻\n",
    "                            print '類別為 :',d,'\\n'\n",
    "                            ClassingResult[d][q.encode('utf-8')] = TmpDic[d]#　　把q寫進總字典的概念裡(Key:q Value:相似度)\n",
    "                        else:#　　不太可能發生的情況\n",
    "                            Remain.append('WHAT!?'+q.encode('utf-8'))                    \n",
    "            else:#　　q與各概念相似度都沒有達標,無法歸類\n",
    "                Remain.append(q.encode('utf-8'))\n",
    "\n",
    "        except KeyError:#　　抓到KeyError( W2V不認識q )的例外處理\n",
    "            print '「',q,'」EXCEPT! (KeyError)\\n'\n",
    "            Expt.append(q.encode('utf-8'))#　　把q加進例外的陣列理\n",
    "\n",
    "    ###########檢視總字典#####\n",
    "    print '\\n+ + + 印出字典看看 + + +'\n",
    "    for ee in ClassingResult:\n",
    "        print ee,str(ClassingResult[ee]).decode('string_escape')\n",
    "    print '+ + + + + + + + + + + +'\n",
    "    ###########\n",
    "\n",
    "    print '原總量',len(cnt),'\\t|','去重複後',len(set(cnt))\n",
    "    print '--------------------------------------------------'        \n",
    "\n",
    "    Scnt = 0#　　計算成功被歸類的數量\n",
    "    for e in ClassingResult:#　　遍歷各概念\n",
    "        print '【',e,'】','\\t數量:',len(ClassingResult[e])\n",
    "        for f in ClassingResult[e]:#　　遍歷被歸類到此概念中的詞語　\n",
    "            print f,#　　若加ClassingResult[e][f]則會印出詞語與概念的相似度\n",
    "            Scnt += 1\n",
    "        print '\\n'\n",
    "\n",
    "    print '--------------------------------------------------------------------'\n",
    "    print '相似度門檻',SimLevel,'\\t|','相似成數門檻',SimPercent,'　|',\\\n",
    "          '成功分類',Scnt,'　|','成功分類比率',int(float(Scnt)/float(len(set(cnt)))*100),'%'\n",
    "    print '--------------------------------------------------------------------\\n'\n",
    "\n",
    "    #在此之前Expt 和 Remain都是List , 都有照順序排好 , 印出來可檢查這些詞的原順序\n",
    "    #此時把List轉成Set , 去除重複值 , 增加可讀性\n",
    "    Expt = set(Expt)\n",
    "    Remain = set(Remain)\n",
    "\n",
    "    #把W2V不認識的印出來\n",
    "    print '【W2V無法辨識】\\t數量',len(Expt)\n",
    "    for g in Expt:\n",
    "        print g,\n",
    "    print '\\n'\n",
    "\n",
    "    #把沒過門檻值的印出來\n",
    "    print '【低於門檻值】\\t數量',len(Remain)\n",
    "    for h in Remain:\n",
    "        print h,\n",
    "    print '\\n'"
   ]
  },
  {
   "cell_type": "markdown",
   "metadata": {},
   "source": [
    "# 將詞語分類\n",
    "\n",
    "使用方法：\n",
    "\n",
    "    W2V_ClassificationMethod2(Concept,Corpus,SimLevel,SimPercent)\n",
    "    \n",
    "    Concept   :[字典]。概念字典。\n",
    "               格式為：Key  : 概念的名稱(僅命名,無實質意義)\n",
    "               Value: [陣列],內容是可以代表該概念的詞語\n",
    "               \n",
    "    Corpus    :[字串]。[檔名]。存取關鍵字的TXT檔。\n",
    "                注意！檔案內第一行要空著！\n",
    "    \n",
    "    SimLevel  :[浮點數]。[0~1]。相似度門檻。\n",
    "    \n",
    "    SimPercent:[浮點數]。[0~1]。相似成數(百分比)門檻。\n",
    "                必須與概念內詞語相似達到一定程度才能算與此概念相似。"
   ]
  },
  {
   "cell_type": "markdown",
   "metadata": {},
   "source": [
    "# 實際測試\n",
    "(PS 操作時都會多一個空白, 所以會多一個詞, 是正常現象)\n",
    "\n",
    "VVV測試用概念字典VVV"
   ]
  },
  {
   "cell_type": "code",
   "execution_count": 3,
   "metadata": {
    "collapsed": true
   },
   "outputs": [],
   "source": [
    "Dic = {'脫俗':['脫俗','幽雅','清幽','優雅','氣質','心曠神怡'],\\\n",
    "       '輕鬆':['輕鬆','休閒','遊憩','悠閒','休憩','消遣','愜意','放鬆']}"
   ]
  },
  {
   "cell_type": "markdown",
   "metadata": {},
   "source": [
    "# 測試[A] - 詞語跟概念中詞語完全相似\n",
    "詞　　語: [ 輕鬆 ]\n",
    "\n",
    "相似門檻: 0.25　　|　相似成數: 0.2"
   ]
  },
  {
   "cell_type": "code",
   "execution_count": 4,
   "metadata": {
    "collapsed": false
   },
   "outputs": [
    {
     "name": "stdout",
     "output_type": "stream",
     "text": [
      "@ ->「 ﻿ 」的概念分類開始: \n",
      "「 ﻿ 」EXCEPT! (KeyError)\n",
      "\n",
      "@ ->「 輕鬆 」的概念分類開始: \n",
      "  -目標詞「 輕鬆 」與【 脫俗 】的相似陣列( 顯示內容為已高於相似度門檻 : 0.25 )\n",
      "[0.30271165470057576]\n",
      "  -其占【 脫俗 】概念內容的\n",
      "   比重為 : 1 / 6\n",
      "   比率為 : 0.166666666667\n",
      "*\n",
      "---目標詞「 輕鬆 」就在【 輕鬆 】的概念裡\n",
      "\n",
      "+ + + 印出字典看看 + + +\n",
      "脫俗 {}\n",
      "輕鬆 {'輕鬆': 1}\n",
      "+ + + + + + + + + + + +\n",
      "原總量 2 \t| 去重複後 2\n",
      "--------------------------------------------------\n",
      "【 脫俗 】 \t數量: 0\n",
      "\n",
      "\n",
      "【 輕鬆 】 \t數量: 1\n",
      "輕鬆 \n",
      "\n",
      "--------------------------------------------------------------------\n",
      "相似度門檻 0.25 \t| 相似成數門檻 0.2 　| 成功分類 1 　| 成功分類比率 50 %\n",
      "--------------------------------------------------------------------\n",
      "\n",
      "【W2V無法辨識】\t數量 1\n",
      "﻿ \n",
      "\n",
      "【低於門檻值】\t數量 0\n",
      "\n",
      "\n"
     ]
    }
   ],
   "source": [
    "W2V_ClassificationMethod2(Dic,'test0114.txt',0.25,0.2)"
   ]
  },
  {
   "cell_type": "markdown",
   "metadata": {},
   "source": [
    "# 測試[B] - 詞語與多個概念都有相似時\n",
    "詞　　語: [ 悠哉 ]\n",
    "\n",
    "相似門檻: 0.25　　|　相似成數: 0.2"
   ]
  },
  {
   "cell_type": "code",
   "execution_count": 5,
   "metadata": {
    "collapsed": false
   },
   "outputs": [
    {
     "name": "stdout",
     "output_type": "stream",
     "text": [
      "@ ->「 ﻿ 」的概念分類開始: \n",
      "「 ﻿ 」EXCEPT! (KeyError)\n",
      "\n",
      "@ ->「 悠哉 」的概念分類開始: \n",
      "  -目標詞「 悠哉 」與【 脫俗 】的相似陣列( 顯示內容為已高於相似度門檻 : 0.25 )\n",
      "[0.40213583263428443, 0.37660737395282673, 0.40546016760082743, 0.2617181126425962]\n",
      "  -其占【 脫俗 】概念內容的\n",
      "   比重為 : 4 / 6\n",
      "   比率為 : 0.666666666667\n",
      "*\n",
      "  -「 悠哉 」已過相似_百分比_門檻 : 0.2\n",
      "   與【 脫俗 】的相似度為:  0.361480371708  -> 進入候選名單\n",
      "# # # # # # #\n",
      "\n",
      "  -目標詞「 悠哉 」與【 輕鬆 】的相似陣列( 顯示內容為已高於相似度門檻 : 0.25 )\n",
      "[0.31945289405416533, 0.42798378153279459, 0.33026052403947703]\n",
      "  -其占【 輕鬆 】概念內容的\n",
      "   比重為 : 3 / 8\n",
      "   比率為 : 0.375\n",
      "*\n",
      "  -「 悠哉 」已過相似_百分比_門檻 : 0.2\n",
      "   與【 輕鬆 】的相似度為:  0.359232399875  -> 進入候選名單\n",
      "# # # # # # #\n",
      "\n",
      "\n",
      "___檢視 悠哉 的暫存字典(TmpDic)___\n",
      "脫俗 0.361480371708\n",
      "輕鬆 0.359232399875\n",
      "== == == == == == == == == == ==\n",
      "> >小結 : 悠哉 成功歸類！ 類別為 : 脫俗 \n",
      "\n",
      "\n",
      "+ + + 印出字典看看 + + +\n",
      "脫俗 {'悠哉': 0.3614803717076337}\n",
      "輕鬆 {}\n",
      "+ + + + + + + + + + + +\n",
      "原總量 2 \t| 去重複後 2\n",
      "--------------------------------------------------\n",
      "【 脫俗 】 \t數量: 1\n",
      "悠哉 \n",
      "\n",
      "【 輕鬆 】 \t數量: 0\n",
      "\n",
      "\n",
      "--------------------------------------------------------------------\n",
      "相似度門檻 0.25 \t| 相似成數門檻 0.2 　| 成功分類 1 　| 成功分類比率 50 %\n",
      "--------------------------------------------------------------------\n",
      "\n",
      "【W2V無法辨識】\t數量 1\n",
      "﻿ \n",
      "\n",
      "【低於門檻值】\t數量 0\n",
      "\n",
      "\n"
     ]
    }
   ],
   "source": [
    "W2V_ClassificationMethod2(Dic,'test0114.txt',0.25,0.2)"
   ]
  },
  {
   "cell_type": "markdown",
   "metadata": {},
   "source": [
    "# 測試[C] - 詞語是W2V無法辨識時\n",
    "詞　　語: [ 肉形石 ]\n",
    "\n",
    "相似門檻: 0.25　　|　相似成數: 0.2"
   ]
  },
  {
   "cell_type": "code",
   "execution_count": 6,
   "metadata": {
    "collapsed": false
   },
   "outputs": [
    {
     "name": "stdout",
     "output_type": "stream",
     "text": [
      "@ ->「 ﻿ 」的概念分類開始: \n",
      "「 ﻿ 」EXCEPT! (KeyError)\n",
      "\n",
      "@ ->「 肉形石 」的概念分類開始: \n",
      "「 肉形石 」EXCEPT! (KeyError)\n",
      "\n",
      "\n",
      "+ + + 印出字典看看 + + +\n",
      "脫俗 {}\n",
      "輕鬆 {}\n",
      "+ + + + + + + + + + + +\n",
      "原總量 2 \t| 去重複後 2\n",
      "--------------------------------------------------\n",
      "【 脫俗 】 \t數量: 0\n",
      "\n",
      "\n",
      "【 輕鬆 】 \t數量: 0\n",
      "\n",
      "\n",
      "--------------------------------------------------------------------\n",
      "相似度門檻 0.25 \t| 相似成數門檻 0.2 　| 成功分類 0 　| 成功分類比率 0 %\n",
      "--------------------------------------------------------------------\n",
      "\n",
      "【W2V無法辨識】\t數量 2\n",
      "﻿ 肉形石 \n",
      "\n",
      "【低於門檻值】\t數量 0\n",
      "\n",
      "\n"
     ]
    }
   ],
   "source": [
    "W2V_ClassificationMethod2(Dic,'test0114.txt',0.25,0.2)"
   ]
  },
  {
   "cell_type": "markdown",
   "metadata": {},
   "source": [
    "# 測試[D1] - 詞語因相似度門檻而有所不同\n",
    "詞　　語: [ 志趣 ]\n",
    "相似門檻: 0.25　　|　相似成數: 0.2"
   ]
  },
  {
   "cell_type": "code",
   "execution_count": 7,
   "metadata": {
    "collapsed": false
   },
   "outputs": [
    {
     "name": "stdout",
     "output_type": "stream",
     "text": [
      "@ ->「 ﻿ 」的概念分類開始: \n",
      "「 ﻿ 」EXCEPT! (KeyError)\n",
      "\n",
      "@ ->「 志趣 」的概念分類開始: \n",
      "  -目標詞「 志趣 」與【 脫俗 】的相似陣列( 顯示內容為已高於相似度門檻 : 0.25 )\n",
      "[0.32413836781524286, 0.27796147861875337]\n",
      "  -其占【 脫俗 】概念內容的\n",
      "   比重為 : 2 / 6\n",
      "   比率為 : 0.333333333333\n",
      "*\n",
      "  -「 志趣 」已過相似_百分比_門檻 : 0.2\n",
      "   與【 脫俗 】的相似度為:  0.301049923217  -> 進入候選名單\n",
      "# # # # # # #\n",
      "\n",
      "  -目標詞「 志趣 」與【 輕鬆 】的相似陣列( 顯示內容為已高於相似度門檻 : 0.25 )\n",
      "[]\n",
      "  -其占【 輕鬆 】概念內容的\n",
      "   比重為 : 0 / 8\n",
      "   比率為 : 0.0\n",
      "*\n",
      "\n",
      "___檢視 志趣 的暫存字典(TmpDic)___\n",
      "脫俗 0.301049923217\n",
      "== == == == == == == == == == ==\n",
      "> >小結 : 志趣 成功歸類！ 類別為 : 脫俗 \n",
      "\n",
      "\n",
      "+ + + 印出字典看看 + + +\n",
      "脫俗 {'志趣': 0.3010499232169981}\n",
      "輕鬆 {}\n",
      "+ + + + + + + + + + + +\n",
      "原總量 2 \t| 去重複後 2\n",
      "--------------------------------------------------\n",
      "【 脫俗 】 \t數量: 1\n",
      "志趣 \n",
      "\n",
      "【 輕鬆 】 \t數量: 0\n",
      "\n",
      "\n",
      "--------------------------------------------------------------------\n",
      "相似度門檻 0.25 \t| 相似成數門檻 0.2 　| 成功分類 1 　| 成功分類比率 50 %\n",
      "--------------------------------------------------------------------\n",
      "\n",
      "【W2V無法辨識】\t數量 1\n",
      "﻿ \n",
      "\n",
      "【低於門檻值】\t數量 0\n",
      "\n",
      "\n"
     ]
    }
   ],
   "source": [
    "W2V_ClassificationMethod2(Dic,'test0114.txt',0.25,0.2)"
   ]
  },
  {
   "cell_type": "markdown",
   "metadata": {},
   "source": [
    "# 測試[D2] - 詞語因相似度門檻而有所不同\n",
    "詞　　語: [ 志趣 ]\n",
    "相似門檻: 0.25　　|　相似成數: 0.6 (相似成數提高!!!)"
   ]
  },
  {
   "cell_type": "code",
   "execution_count": 8,
   "metadata": {
    "collapsed": false
   },
   "outputs": [
    {
     "name": "stdout",
     "output_type": "stream",
     "text": [
      "@ ->「 ﻿ 」的概念分類開始: \n",
      "「 ﻿ 」EXCEPT! (KeyError)\n",
      "\n",
      "@ ->「 志趣 」的概念分類開始: \n",
      "  -目標詞「 志趣 」與【 脫俗 】的相似陣列( 顯示內容為已高於相似度門檻 : 0.25 )\n",
      "[0.32413836781524286, 0.27796147861875337]\n",
      "  -其占【 脫俗 】概念內容的\n",
      "   比重為 : 2 / 6\n",
      "   比率為 : 0.333333333333\n",
      "*\n",
      "  -目標詞「 志趣 」與【 輕鬆 】的相似陣列( 顯示內容為已高於相似度門檻 : 0.25 )\n",
      "[]\n",
      "  -其占【 輕鬆 】概念內容的\n",
      "   比重為 : 0 / 8\n",
      "   比率為 : 0.0\n",
      "*\n",
      "\n",
      "___檢視 志趣 的暫存字典(TmpDic)___\n",
      "== == == == == == == == == == ==\n",
      "\n",
      "+ + + 印出字典看看 + + +\n",
      "脫俗 {}\n",
      "輕鬆 {}\n",
      "+ + + + + + + + + + + +\n",
      "原總量 2 \t| 去重複後 2\n",
      "--------------------------------------------------\n",
      "【 脫俗 】 \t數量: 0\n",
      "\n",
      "\n",
      "【 輕鬆 】 \t數量: 0\n",
      "\n",
      "\n",
      "--------------------------------------------------------------------\n",
      "相似度門檻 0.25 \t| 相似成數門檻 0.6 　| 成功分類 0 　| 成功分類比率 0 %\n",
      "--------------------------------------------------------------------\n",
      "\n",
      "【W2V無法辨識】\t數量 1\n",
      "﻿ \n",
      "\n",
      "【低於門檻值】\t數量 1\n",
      "志趣 \n",
      "\n"
     ]
    }
   ],
   "source": [
    "W2V_ClassificationMethod2(Dic,'test0114.txt',0.25,0.6)"
   ]
  }
 ],
 "metadata": {
  "kernelspec": {
   "display_name": "Python 2",
   "language": "python",
   "name": "python2"
  },
  "language_info": {
   "codemirror_mode": {
    "name": "ipython",
    "version": 2
   },
   "file_extension": ".py",
   "mimetype": "text/x-python",
   "name": "python",
   "nbconvert_exporter": "python",
   "pygments_lexer": "ipython2",
   "version": "2.7.11"
  }
 },
 "nbformat": 4,
 "nbformat_minor": 0
}
