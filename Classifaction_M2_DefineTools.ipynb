{
 "cells": [
  {
   "cell_type": "markdown",
   "metadata": {},
   "source": [
    "# 概念分群[二]_定義概念群的幾個工具方法\n",
    "以下方法是用來定義概念群時使用\n",
    "\n",
    "LastModified : 20160117_2147"
   ]
  },
  {
   "cell_type": "markdown",
   "metadata": {},
   "source": [
    "0.選定要使用的W2V Model (只能擇一，頗占記憶體)"
   ]
  },
  {
   "cell_type": "code",
   "execution_count": 1,
   "metadata": {
    "collapsed": true
   },
   "outputs": [],
   "source": [
    "import gensim\n",
    "#1__WIKI\n",
    "model = gensim.models.Word2Vec.load(\"W2V_Wiki_Trastd/wiki.zh.sim.seg.trastd.model\")\n",
    "\n",
    "#2__搜狐新闻数据\n",
    "#model = gensim.models.Word2Vec.load('W2V_SogouCS/SogouCS_Combine.model')\n",
    "\n",
    "#3__全网新闻数据\n",
    "#model = gensim.models.Word2Vec.load('W2V_SogouCA/SogouCA_Combine.model')"
   ]
  },
  {
   "cell_type": "markdown",
   "metadata": {},
   "source": [
    "# [1] \n",
    "\n",
    "    看_撈出的關鍵字_與_哪些詞(基於訓練資料ex.wiki...)_具有高相似度 (門檻自訂)\n",
    "\n",
    "    可看出撈出的關鍵字中，與W2V中相似度最高的詞語是哪些，進而做為定義概念群中詞語的依據\n",
    "\n",
    "使用範例：\n",
    "\n",
    "    FindHighSim(Corpus,SimLevel)\n",
    "    \n",
    "    Corpus  : [字串]。[檔名]。存取關鍵字的TXT檔\n",
    "    SimLevel: [浮點數]。[0~1]。相似度門檻\n",
    "\n",
    "使用結果：\n",
    "\n",
    "    會印出 :「關鍵字」-「相似字」-「相似度」( 每行 )"
   ]
  },
  {
   "cell_type": "code",
   "execution_count": 2,
   "metadata": {
    "collapsed": false
   },
   "outputs": [],
   "source": [
    "def FindHighSim(Corpus,SimLevel):\n",
    "    x = set()\n",
    "    b = set()\n",
    "    for a in open(Corpus,'r'):\n",
    "        a = a.strip().decode('utf-8')\n",
    "        x.add(a)\n",
    "    for c in x:\n",
    "        try:\n",
    "            result = model.most_similar(c)\n",
    "            if result[0][1] > SimLevel:\n",
    "                print c , result[0][0] , result[0][1]\n",
    "        except:\n",
    "            b.add(a)"
   ]
  },
  {
   "cell_type": "code",
   "execution_count": 3,
   "metadata": {
    "collapsed": false
   },
   "outputs": [
    {
     "name": "stdout",
     "output_type": "stream",
     "text": [
      "拓撲 同胚於 0.767044007778\n",
      "佛教 漢傳 0.778333961964\n",
      "猴洞 坑子 0.788516581059\n",
      "炎熱 寒冷 0.778002917767\n",
      "寧夏 甘肅 0.772675275803\n",
      "神祇 主神 0.751127779484\n",
      "接待員 鍾鈺精 0.762435138226\n",
      "攝影 剪接 0.769067049026\n",
      "評論 影評 0.755247294903\n",
      "蔣中正 蔣介石 0.789977490902\n",
      "夏季 冬季 0.834889173508\n",
      "觀劇 網易娛樂 0.808738291264\n",
      "蔣介石 蔣中正 0.789977550507\n",
      "小食 小吃 0.820101678371\n",
      "航班 包機 0.756068348885\n",
      "昆明街 西寧南路 0.783462166786\n",
      "佛像 泥塑像 0.762733519077\n",
      "平溪 瑞芳 0.776917219162\n",
      "幽暗 mirkwood 0.751509010792\n",
      "捲菸廠 紅塔集團 0.775149643421\n",
      "艦橋 右舷 0.755797803402\n",
      "交響樂團 管弦樂團 0.793657422066\n",
      "河流 下游 0.765522480011\n",
      "航母 航空母艦 0.756751954556\n",
      "北車 南車 0.783483564854\n",
      "喜歡 討厭 0.815701305866\n",
      "大使館 駐 0.780441045761\n",
      "瑞芳 平溪 0.776917159557\n",
      "寺院 藏傳佛教 0.79683470726\n",
      "祭祀 祭拜 0.773009419441\n",
      "遺址 新石器 0.823991775513\n",
      "秋季 春季 0.772646844387\n",
      "平溪鄉 三貂堡 0.77661049366\n",
      "菁桐 望古 0.796829819679\n"
     ]
    }
   ],
   "source": [
    "FindHighSim('NE_SciTfidf-30-20160114.txt',0.75)"
   ]
  },
  {
   "cell_type": "markdown",
   "metadata": {},
   "source": [
    "# [2] \n",
    "\n",
    "    定義概念群 : 準則為「\"組內\"相似度高」&「\"組間\"相似度低」\n",
    "\n",
    "    比較概念內詞語的相似度(InSim) , 與每兩概念間的相似度(OutSim) \n",
    "    \n",
    "    來找出InSim不夠高，或是OutSim不夠低的概念，加以對概念內的詞語做調整\n",
    " \n",
    "使用範例：\n",
    "\n",
    "    CompareConcept(Dic,InSim,OutSim)\n",
    "    \n",
    "    Dic   :[字典]。概念字典。\n",
    "           格式為：Key  : 概念的名稱(僅命名,無實質意義)\n",
    "           　　　　Value: [陣列],內容是可以代表該概念的詞語\n",
    "    \n",
    "    InSim :[浮點數]。組內相似度。\n",
    "           EX.通常設0.0，表示把\"每一組\"的組內相似度都印出來。\n",
    "           若組內的相似度過低，就可以找是哪一個詞影響到了整體的相似度，把它拿掉。\n",
    "           \n",
    "    OutSim:[浮點數]。組間相似度。\n",
    "           EX.若設為0.15，就是認為組間相似度達0.15就算太像，此時組間相似度超過0.15\n",
    "           的兩個組就會被印出來。\n",
    "           \n",
    "使用結果：\n",
    "\n",
    "    會回傳３個PART\n",
    "    \n",
    "    PART1　組內相似度\n",
    "    \n",
    "    PART2　組間相似度\n",
    "    \n",
    "    PART3　組內最不像的(離群值)\n",
    "           此為W2V內建的方法,會傳回每個概念內「與詞語間最不相似的一個詞」\n",
    "           用途：當組內相似度不夠高時，不知道要去除哪個詞，來提高組內相似度。\n",
    "                    (EX 覺得[輕鬆]概念的組內相似度不夠高,使用此法,\n",
    "                    結果顯示:[輕鬆]組內最不相似的詞是\"美食\",\n",
    "                    就可以把\"美食\"從[輕鬆]裡拿掉,藉以提高[輕鬆]的組內相似度)\n",
    "                 此結果僅為參考,去除後組內相似度並不見得會提高;\n",
    "                 要提高也可利用前者的方法 --FindHighSim() 去新增概念內的詞語"
   ]
  },
  {
   "cell_type": "code",
   "execution_count": 4,
   "metadata": {
    "collapsed": false
   },
   "outputs": [],
   "source": [
    "def CompareConcept(Dic,InSim,OutSim):\n",
    "    import operator\n",
    "    import itertools\n",
    "    \n",
    "    print '組內相似度\\n---'\n",
    "    SimInside = {}\n",
    "    for i in Dic:\n",
    "        cnt = 0\n",
    "        percent = 0.0\n",
    "        #print i,'--'\n",
    "        Test = i\n",
    "        for w in Dic[Test]:\n",
    "            for o in Dic[Test]:\n",
    "                cnt += 1\n",
    "                percent += model.similarity(w.decode('utf-8'),o.decode('utf-8'))\n",
    "                #print i.decode('utf-8'),\\\n",
    "                #      o.decode('utf-8'),\\\n",
    "                #      model.similarity(i.decode('utf-8'), o.decode('utf-8'))\n",
    "        #print '--- Ave :',percent/cnt  \n",
    "        SimInside[i] = percent/cnt \n",
    "\n",
    "    Rank = sorted(SimInside.iteritems(),key=operator.itemgetter(1),reverse=True)\n",
    "    for z in Rank:\n",
    "        if z[1] > InSim:\n",
    "            print z[0],z[1]\n",
    "\n",
    "    print '\\n\\n組間相似度\\n---'\n",
    "    SimOutside = {}\n",
    "    li = []\n",
    "    for e in Dic:\n",
    "        li.append(e.decode('utf-8'))\n",
    "    for q in list(itertools.combinations(li,2)):\n",
    "        cnt2 = 0\n",
    "        percent2 = 0.0\n",
    "        for x in Dic[q[0].encode('utf-8')]:\n",
    "            for y in Dic[q[1].encode('utf-8')]:\n",
    "                cnt2 += 1\n",
    "                percent2 += model.similarity(x.decode('utf-8'),y.decode('utf-8'))\n",
    "        #print q[0],q[1],percent2/cnt\n",
    "        SimOutside[' '.join(q)] = percent2/cnt\n",
    "\n",
    "    Rank2 = sorted(SimOutside.iteritems(),key=operator.itemgetter(1),reverse=True)\n",
    "    for d in Rank2:\n",
    "        if d[1] > OutSim:\n",
    "            print d[0],d[1]\n",
    "\n",
    "\n",
    "    print '\\n\\n組內最不像的(離群值)\\n---'\n",
    "    for u in Dic:\n",
    "        print u,model.doesnt_match(' '.join(Dic[u]).decode('utf-8').split())"
   ]
  },
  {
   "cell_type": "markdown",
   "metadata": {},
   "source": [
    "＠自定義的概念字典"
   ]
  },
  {
   "cell_type": "code",
   "execution_count": 5,
   "metadata": {
    "collapsed": false
   },
   "outputs": [],
   "source": [
    "Dic = {\n",
    "'藝文':['藝術','美術','戲劇','音樂'],\\\n",
    "    \n",
    "'信仰':['信仰','祭祀','祭拜','膜拜','信眾','信奉'],\\\n",
    "    \n",
    "'美食':['美食','爽口','美味','好吃'],\\\n",
    "'新奇':['新奇','新穎','獵奇','獨特','驚喜'],\\\n",
    "\n",
    "'輕鬆':['輕鬆','休閒','遊憩','悠閒','休憩','消遣','愜意','放鬆'],\\\n",
    "'遊玩':['遊玩','好玩','遊樂'],\\\n",
    "'快樂':['快樂','愉快','開心','歡樂','幸福','美好'],\\\n",
    "'有趣':['有趣','趣味'],\\\n",
    "\n",
    "'脫俗':['脫俗','幽雅','清幽','優雅','氣質','心曠神怡'],\\\n",
    "'樂活':['環保','綠化','清新'],\\\n",
    "\n",
    "'安靜':['安靜','寧靜'],\\\n",
    "'乾淨':['乾淨','整潔','潔淨'],\\\n",
    "\n",
    "'懷舊':['懷舊','復古','情調'],\\\n",
    "'古老':['古老','悠久'],\\\n",
    "\n",
    "'髒亂':['骯髒','很髒','髒亂','低劣','灰塵','破舊'],\\\n",
    "\n",
    "'購物':['商圈','百貨','商場'],\\\n",
    "'特產':['特產','紀念品'],\\\n",
    "\n",
    "'運動':['運動','健康'],\\\n",
    "\n",
    "'漂亮':['漂亮','可愛','美麗','優美'],\\\n",
    "'文青':['清新','優雅','氣質'],\\\n",
    "\n",
    "'壯觀':['雄偉','壯觀','壯麗']\n",
    "}"
   ]
  },
  {
   "cell_type": "code",
   "execution_count": 6,
   "metadata": {
    "collapsed": false
   },
   "outputs": [
    {
     "name": "stdout",
     "output_type": "stream",
     "text": [
      "組內相似度\n",
      "---\n",
      "古老 0.818809681714\n",
      "文青 0.711611056913\n",
      "壯觀 0.706678632056\n",
      "有趣 0.69204862026\n",
      "安靜 0.67246421226\n",
      "運動 0.616173825221\n",
      "購物 0.615059877651\n",
      "信仰 0.611419907947\n",
      "美食 0.589275201898\n",
      "特產 0.587917442123\n",
      "乾淨 0.585851257683\n",
      "懷舊 0.584266524582\n",
      "漂亮 0.562307795312\n",
      "藝文 0.499157189805\n",
      "脫俗 0.486872799178\n",
      "樂活 0.485786980765\n",
      "快樂 0.465091752659\n",
      "遊玩 0.451244988725\n",
      "髒亂 0.449564396734\n",
      "新奇 0.437149979195\n",
      "輕鬆 0.344181888323\n",
      "\n",
      "\n",
      "組間相似度\n",
      "---\n",
      "脫俗 輕鬆 0.152523054568\n",
      "\n",
      "\n",
      "組內最不像的(離群值)\n",
      "---\n",
      "古老 古老\n",
      "遊玩 好玩\n",
      "新奇 驚喜\n",
      "懷舊 情調\n",
      "乾淨 潔淨\n",
      "壯觀 壯麗\n",
      "漂亮 優美\n",
      "信仰 信奉\n",
      "運動 運動\n",
      "脫俗 心曠神怡\n",
      "髒亂 低劣\n",
      "樂活 清新\n",
      "安靜 安靜\n",
      "快樂 歡樂\n",
      "美食 爽口\n",
      "特產 特產\n",
      "購物 商場\n",
      "有趣 趣味\n",
      "文青 清新\n",
      "藝文 戲劇\n",
      "輕鬆 休憩\n"
     ]
    }
   ],
   "source": [
    "CompareConcept(Dic,0,0.15)"
   ]
  },
  {
   "cell_type": "markdown",
   "metadata": {},
   "source": [
    "# [3] \n",
    "    \n",
    "    詞語轉移概念 -> 一詞語若與原概念不相似, 可用此法尋求可以放到哪個其他的概念裡\n",
    "\n",
    "　EX.\n",
    "    \n",
    "    情況A \"臭味\"原本在[輕鬆]裡, 卻被發現此詞是拉低[輕鬆]組內相似度的罪魁禍首 \n",
    "    情況B \"臭味\"是我從關鍵詞中, 覺得可以被當作概念詞語的關鍵詞 \n",
    "     -->發生前兩種情況, 卻不知道該歸類在哪一個概念比較適合的時候, 可以用此法來判定\n",
    "        \"臭味\"與現有的所有概念詞中, 哪個最相像, 並顯示相似度 .若夠高, 可試著加入\n",
    "\n",
    "使用範例：\n",
    "\n",
    "    findSim(word)\n",
    "\n",
    "    word   :[字串]。鍵入想查詢的關鍵詞。"
   ]
  },
  {
   "cell_type": "code",
   "execution_count": 7,
   "metadata": {
    "collapsed": false
   },
   "outputs": [],
   "source": [
    "def findSim(word):\n",
    "    import operator\n",
    "    dicli = {}\n",
    "    for a in Dic:\n",
    "        for b in Dic[a]: \n",
    "            dicli['Concept:'+a+\" ->Item:\"+b] = model.similarity(b.decode('utf-8'),word.decode('utf-8'))\n",
    "\n",
    "    print '最相近的概念'\n",
    "    print \\\n",
    "    sorted(dicli.iteritems(),key=operator.itemgetter(1),reverse=True)[1][0],\\\n",
    "    '　',\\\n",
    "    sorted(dicli.iteritems(),key=operator.itemgetter(1),reverse=True)[2][1]"
   ]
  },
  {
   "cell_type": "code",
   "execution_count": 8,
   "metadata": {
    "collapsed": false
   },
   "outputs": [
    {
     "name": "stdout",
     "output_type": "stream",
     "text": [
      "最相近的概念\n",
      "Concept:髒亂 ->Item:很髒 　 0.445742046467\n"
     ]
    }
   ],
   "source": [
    "findSim('臭味')"
   ]
  },
  {
   "cell_type": "markdown",
   "metadata": {},
   "source": [
    "＠最基本的找兩詞語相似度"
   ]
  },
  {
   "cell_type": "code",
   "execution_count": 9,
   "metadata": {
    "collapsed": false
   },
   "outputs": [
    {
     "name": "stdout",
     "output_type": "stream",
     "text": [
      "1.0\n"
     ]
    }
   ],
   "source": [
    "print model.similarity(u'情調',u'情調')"
   ]
  }
 ],
 "metadata": {
  "kernelspec": {
   "display_name": "Python 2",
   "language": "python",
   "name": "python2"
  },
  "language_info": {
   "codemirror_mode": {
    "name": "ipython",
    "version": 2
   },
   "file_extension": ".py",
   "mimetype": "text/x-python",
   "name": "python",
   "nbconvert_exporter": "python",
   "pygments_lexer": "ipython2",
   "version": "2.7.11"
  }
 },
 "nbformat": 4,
 "nbformat_minor": 0
}
