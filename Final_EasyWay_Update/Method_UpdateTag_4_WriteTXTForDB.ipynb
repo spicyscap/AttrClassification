{
 "cells": [
  {
   "cell_type": "markdown",
   "metadata": {},
   "source": [
    "# 把結果轉成TXT檔, 以便更新資料庫"
   ]
  },
  {
   "cell_type": "code",
   "execution_count": 1,
   "metadata": {
    "collapsed": false
   },
   "outputs": [],
   "source": [
    "IP   = \"10.120.26.4\"\n",
    "User = \"iii\"\n",
    "PWd  = \"iii\"\n",
    "DB   = \"iii\"\n",
    "###　　　###　　　###　　　####\n",
    "# [二] #\n",
    "######　　　SQL命令　　　######\n",
    "sql = \"SELECT Attr_id,Attr_name FROM `iiimap_attraction`\"\n",
    "\n",
    "import time\n",
    "Date = time.strftime('%Y%m%d',time.localtime(time.time()))\n",
    "###　標籤結果\n",
    "JFC='DB_OnlyConTags_'+Date+'.json'\n",
    "JFW='DB_OnlyWordTags_'+Date+'.json'\n",
    "FC='DB_OnlyConTags_'+Date+'.txt'\n",
    "FW='DB_OnlyWordTags_'+Date+'.txt'\n",
    "\n",
    "###　文字雲結果\n",
    "JFCC='DB_FlatConceptCloud_'+Date+'.json'\n",
    "JFWC='DB_FlatWordCloud_'+Date+'.json'\n",
    "FCC='DB_FlatConceptCloud_'+Date+'.txt'\n",
    "FWC='DB_FlatWordCloud_'+Date+'.txt'\n",
    "\n",
    "###　所有JSON結果\n",
    "JFid='DB_*'+Date+'.json'\n",
    "\n",
    "###　收納檔案的資料夾名稱\n",
    "Log1='Taggin_Log'+Date\n",
    "Log2='Taggin_DBFiles'+Date\n",
    "Log3='Taggin_DBTXT'+Date\n",
    "\n",
    "###　其他參數\n",
    "DBTXT='Taggin_DBTXT'+Date#　存放要丟進MySQL的TXT檔\n",
    "LOGFid=Date+'_TagLog'#　存放全部的結果檔\n",
    "DBfiles='DB_*'+Date+'.json'\n",
    "DBTXTfiles='DB_*'+Date+'.txt'\n",
    "\n",
    "###　DOS指令\n",
    "CPCMD='cd Taggin_DBFiles'+Date+' & IF EXIST {} COPY {} ..'\n",
    "MVCMD='IF EXIST {} MOVE {} '+DBTXT\n",
    "DELCMD='cd '+DBTXT+' & IF EXIST {} DEL {}'\n",
    "CollectCMD='IF EXIST {} MOVE {} '+LOGFid"
   ]
  },
  {
   "cell_type": "code",
   "execution_count": 2,
   "metadata": {
    "collapsed": false,
    "scrolled": true
   },
   "outputs": [
    {
     "name": "stdout",
     "output_type": "stream",
     "text": [
      "ConFile Len: 1130\n",
      "WordFile Len: 16967\n",
      "ConCloudFile Len: 12\n",
      "WordCloudFile Len: 9427\n"
     ]
    },
    {
     "data": {
      "text/plain": [
       "0"
      ]
     },
     "execution_count": 2,
     "metadata": {},
     "output_type": "execute_result"
    }
   ],
   "source": [
    "import json\n",
    "import MySQLdb\n",
    "import os\n",
    "import re\n",
    "import subprocess\n",
    "\n",
    "###　開新資料夾\n",
    "os.popen('MKDIR '+DBTXT)\n",
    "\n",
    "###　把檔案複製出來\n",
    "subprocess.check_call(CPCMD.format(DBfiles,DBfiles),shell='TRUE')\n",
    "\n",
    "###　連結資料庫\n",
    "db = MySQLdb.connect(IP,User,PWd,DB,charset='utf8')#連結資料庫\n",
    "cursor = db.cursor()\n",
    "\n",
    "###　把JSON檔Load進來\n",
    "Con = json.load(open(JFC,'r'))\n",
    "Word= json.load(open(JFW,'r'))\n",
    "ConC = json.load(open(JFCC,'r'))\n",
    "WordC= json.load(open(JFWC,'r'))\n",
    "\n",
    "F1= open(FC,'w')\n",
    "F2= open(FW,'w')\n",
    "F3= open(FCC,'w')\n",
    "F4= open(FWC,'w')\n",
    "\n",
    "###　把標籤.文字雲的結果轉成TXT檔\n",
    "try:\n",
    "    cursor.execute(sql)\n",
    "    results = cursor.fetchall()\n",
    "    for row in results:\n",
    "        \n",
    "        if row[1] in Con:#　如果景點名稱在Con裡面\n",
    "            \n",
    "            if len(Con[row[1]])>0:#　如果景點有標籤\n",
    "                for i in Con[row[1]]:\n",
    "                    ###　寫進檔案(每行)：景點編號,標籤\n",
    "                    F1.write(str(row[0])+','+i.encode('utf-8')+'\\n')\n",
    "                \n",
    "            if len(Word[row[1]])>0:#　如果景點有文字雲\n",
    "                for i in Word[row[1]]:\n",
    "                    ###　寫進檔案(每行)：景點編號,文字雲\n",
    "                    F2.write(str(row[0])+','+i.encode('utf-8')+'\\n')\n",
    "except KeyError:\n",
    "    print \"Error: unable to fecth data\"\n",
    "\n",
    "###　把概念雲轉成TXT檔\n",
    "for i in ConC:\n",
    "    F3.write(i.encode('utf-8')+','+str(ConC[i])+'\\n')\n",
    "    \n",
    "###　把文字雲轉成TXT檔\n",
    "for i in WordC:\n",
    "    F4.write(i.encode('utf-8')+','+str(WordC[i])+'\\n')    \n",
    "\n",
    "F1.close()\n",
    "F2.close()\n",
    "F3.close()\n",
    "F4.close()\n",
    "\n",
    "###　印出結果報告\n",
    "print 'ConFile Len:',len([line for line in open(FC)])\n",
    "print 'WordFile Len:',len([line for line in open(FW)])\n",
    "print 'ConCloudFile Len:',len([line for line in open(FCC)])\n",
    "print 'WordCloudFile Len:',len([line for line in open(FWC)])\n",
    "\n",
    "###　把檔案移進Taggin_DBTXT的資料夾裡\n",
    "subprocess.check_call(MVCMD.format(DBfiles,DBfiles),shell='TRUE')\n",
    "subprocess.check_call(MVCMD.format(DBTXTfiles,DBTXTfiles),shell='TRUE')\n",
    "\n",
    "###　把資料夾裡的JSON檔刪掉\n",
    "subprocess.check_call(DELCMD.format(JFid,JFid),shell='TRUE')\n",
    "\n",
    "\n",
    "\n",
    "###　把所有流程紀錄收起來　###\n",
    "\n",
    "###　開資料夾\n",
    "subprocess.check_call('MKDIR '+LOGFid,shell='TRUE')\n",
    "\n",
    "###　依序收好\n",
    "subprocess.check_call(CollectCMD.format(Log1,Log1),shell='TRUE')\n",
    "subprocess.check_call(CollectCMD.format(Log2,Log2),shell='TRUE')\n",
    "subprocess.check_call(CollectCMD.format(Log3,Log3),shell='TRUE')"
   ]
  }
 ],
 "metadata": {
  "kernelspec": {
   "display_name": "Python 2",
   "language": "python",
   "name": "python2"
  },
  "language_info": {
   "codemirror_mode": {
    "name": "ipython",
    "version": 2
   },
   "file_extension": ".py",
   "mimetype": "text/x-python",
   "name": "python",
   "nbconvert_exporter": "python",
   "pygments_lexer": "ipython2",
   "version": "2.7.11"
  }
 },
 "nbformat": 4,
 "nbformat_minor": 0
}
